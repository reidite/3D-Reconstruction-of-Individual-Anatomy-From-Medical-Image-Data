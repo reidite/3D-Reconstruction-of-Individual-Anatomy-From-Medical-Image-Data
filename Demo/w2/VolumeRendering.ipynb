{
 "metadata": {
  "language_info": {
   "codemirror_mode": {
    "name": "ipython",
    "version": 3
   },
   "file_extension": ".py",
   "mimetype": "text/x-python",
   "name": "python",
   "nbconvert_exporter": "python",
   "pygments_lexer": "ipython3",
   "version": "3.7.9-final"
  },
  "orig_nbformat": 2,
  "kernelspec": {
   "name": "python3",
   "display_name": "Python 3.7.9 64-bit ('itk': conda)",
   "metadata": {
    "interpreter": {
     "hash": "08284c7b8df3c43eacdc07b3a3e218c122fb5b477e5d2b89332e3279e5230b20"
    }
   }
  }
 },
 "nbformat": 4,
 "nbformat_minor": 2,
 "cells": [
  {
   "cell_type": "code",
   "execution_count": 217,
   "metadata": {},
   "outputs": [],
   "source": [
    "import os\n",
    "import numpy\n",
    "import vtk\n",
    "import csv"
   ]
  },
  {
   "cell_type": "code",
   "execution_count": 218,
   "metadata": {},
   "outputs": [],
   "source": [
    "from IPython.display import Image\n",
    "def vtk_show(renderer, width=400, height=300):\n",
    "    renderWindow = vtk.vtkRenderWindow()\n",
    "    renderWindow.SetOffScreenRendering(1)\n",
    "    renderWindow.AddRenderer(renderer)\n",
    "    renderWindow.SetSize(width, height)\n",
    "    renderWindow.Render()\n",
    "\n",
    "    windowToImageFilter = vtk.vtkWindowToImageFilter()\n",
    "    windowToImageFilter.SetInput(renderWindow)\n",
    "    windowToImageFilter.Update()\n",
    "\n",
    "    writer = vtk.vtkPNGWriter()\n",
    "    writer.SetWriteToMemory(1)\n",
    "    writer.SetInputConnection(windowToImageFilter.GetOutputPort())\n",
    "    writer.Write()\n",
    "    data   = str(buffer(writer.GetResult()))\n",
    "\n",
    "    return Image(data)"
   ]
  },
  {
   "cell_type": "code",
   "execution_count": 219,
   "metadata": {},
   "outputs": [],
   "source": [
    "def createDummyRenderer():\n",
    "    renderer = vtk.vtkRenderer()\n",
    "    renderer.SetBackground(1.0, 1.0, 1.0)\n",
    "\n",
    "    camera = renderer.MakeCamera()\n",
    "    camera.SetPosition(-256, -256, 512)\n",
    "    camera.SetFocalPoint(0.0, 0.0, 255.0)\n",
    "    camera.SetViewAngle(30.0)\n",
    "    camera.SetViewUp(0.46, -0.80, -0.38)\n",
    "    renderer.SetActiveCamera(camera)\n",
    "\n",
    "    return renderer"
   ]
  },
  {
   "cell_type": "code",
   "execution_count": 220,
   "metadata": {},
   "outputs": [],
   "source": [
    "l2n = lambda l: numpy.array(1)\n",
    "n2l = lambda n: list(n)"
   ]
  },
  {
   "cell_type": "code",
   "execution_count": 221,
   "metadata": {},
   "outputs": [],
   "source": [
    "# Path to the .mha file\n",
    "filenameSegmentation = \"./nac_brain_atlas/brain_segmentation.mha\"\n",
    "\n",
    "# Path to colorfile.txt \n",
    "filenameColorfile = \"./nac_brain_atlas/colorfile.txt\"\n",
    "\n",
    "# Opacity of the different volumes (between 0.0 and 1.0)\n",
    "volOpacityDef = 0.25"
   ]
  },
  {
   "cell_type": "code",
   "execution_count": 222,
   "metadata": {},
   "outputs": [],
   "source": [
    "reader = vtk.vtkMetaImageReader()\n",
    "reader.SetFileName(filenameSegmentation)\n",
    "\n",
    "castFilter = vtk.vtkImageCast()\n",
    "castFilter.SetInputConnection(reader.GetOutputPort())\n",
    "castFilter.SetOutputScalarTypeToUnsignedShort()\n",
    "castFilter.Update()\n",
    "\n",
    "imdataBrainSeg = castFilter.GetOutputPort()"
   ]
  },
  {
   "cell_type": "code",
   "execution_count": 223,
   "metadata": {},
   "outputs": [],
   "source": [
    "fid = open(filenameColorfile, \"r\")\n",
    "reader = csv.reader(fid)\n",
    "\n",
    "dictRGB = {}\n",
    "for line in reader:\n",
    "    dictRGB[int(line[0])] = [float(line[2])/255.0,\n",
    "                             float(line[3])/255.0,\n",
    "                             float(line[4])/255.0]\n",
    "fid.close()"
   ]
  },
  {
   "cell_type": "code",
   "execution_count": 224,
   "metadata": {},
   "outputs": [],
   "source": [
    "funcColor = vtk.vtkColorTransferFunction()\n",
    "\n",
    "for idx in dictRGB.keys():\n",
    "    funcColor.AddRGBPoint(idx,\n",
    "                          dictRGB[idx][0],\n",
    "                          dictRGB[idx][1],\n",
    "                          dictRGB[idx][2])"
   ]
  },
  {
   "cell_type": "code",
   "execution_count": 225,
   "metadata": {},
   "outputs": [],
   "source": [
    "funcOpacityScalar = vtk.vtkPiecewiseFunction()\n",
    "\n",
    "for idx in dictRGB.keys():\n",
    "    funcOpacityScalar.AddPoint(idx, volOpacityDef if idx != 0 else 0.0)"
   ]
  },
  {
   "cell_type": "code",
   "execution_count": 226,
   "metadata": {},
   "outputs": [
    {
     "output_type": "execute_result",
     "data": {
      "text/plain": [
       "2"
      ]
     },
     "metadata": {},
     "execution_count": 226
    }
   ],
   "source": [
    "funcOpacityGradient = vtk.vtkPiecewiseFunction()\n",
    "\n",
    "funcOpacityGradient.AddPoint(1, 0.0)\n",
    "funcOpacityGradient.AddPoint(5, 0.1)\n",
    "funcOpacityGradient.AddPoint(100, 1.0)"
   ]
  },
  {
   "cell_type": "code",
   "execution_count": 227,
   "metadata": {},
   "outputs": [],
   "source": [
    "propVolume = vtk.vtkVolumeProperty()\n",
    "propVolume.ShadeOff()\n",
    "propVolume.SetColor(funcColor)\n",
    "propVolume.SetScalarOpacity(funcOpacityScalar)\n",
    "propVolume.SetGradientOpacity(funcOpacityGradient)\n",
    "propVolume.SetInterpolationTypeToLinear()"
   ]
  },
  {
   "cell_type": "code",
   "execution_count": 228,
   "metadata": {},
   "outputs": [],
   "source": [
    "# ## Volume Rendering"
   ]
  },
  {
   "cell_type": "code",
   "execution_count": 229,
   "metadata": {},
   "outputs": [],
   "source": [
    "mapperVolume = vtk.vtkFixedPointVolumeRayCastMapper()\n",
    "mapperVolume.SetInputConnection(imdataBrainSeg)\n",
    "\n",
    "actorVolume = vtk.vtkVolume()\n",
    "actorVolume.SetMapper(mapperVolume)\n",
    "actorVolume.SetProperty(propVolume)\n",
    "\n",
    "renderer = vtk.vtkRenderer()\n",
    "renderWin = vtk.vtkRenderWindow()\n",
    "renderWin.AddRenderer(renderer)\n",
    "renderInteractor = vtk.vtkRenderWindowInteractor()\n",
    "renderInteractor.SetRenderWindow(renderWin)\n",
    "\n",
    "renderer.AddVolume(actorVolume)\n",
    "renderer.SetBackground(vtk.vtkNamedColors().GetColor3d(\"Black\"))\n",
    "renderWin.SetSize(800, 800)\n",
    "\n",
    "renderWin.Render()\n",
    "renderInteractor.Start()\n",
    "# render = createDummyRenderer()\n",
    "# render.AddVolume(actorVolume)\n",
    "\n",
    "# vtk_show(render, 800, 800)"
   ]
  },
  {
   "cell_type": "code",
   "execution_count": null,
   "metadata": {},
   "outputs": [],
   "source": []
  }
 ]
}